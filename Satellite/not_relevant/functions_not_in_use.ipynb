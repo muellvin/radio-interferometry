{
 "cells": [
  {
   "cell_type": "code",
   "execution_count": null,
   "metadata": {
    "vscode": {
     "languageId": "plaintext"
    }
   },
   "outputs": [],
   "source": [
    "def moving_average_smooth(data, window_size=3):\n",
    "    \"\"\"\n",
    "    Smooths a 2D array along the first axis using a moving average.\n",
    "\n",
    "    Parameters:\n",
    "        data (ndarray): 2D array to be smoothed.\n",
    "        window_size (int): Size of the moving average window.\n",
    "\n",
    "    Returns:\n",
    "        ndarray: Smoothed 2D array.\n",
    "    \"\"\"\n",
    "    smoothed_data = np.apply_along_axis(\n",
    "        lambda x: np.convolve(x, np.ones(window_size)/window_size, mode='same'),\n",
    "        axis=0,\n",
    "        arr=data\n",
    "    )\n",
    "    return smoothed_data\n",
    "\n",
    "def bin_average(data, bin_size=2):\n",
    "    \"\"\"\n",
    "    Bins a 2D array along the first axis and averages within each bin.\n",
    "\n",
    "    Parameters:\n",
    "        data (ndarray): 2D array to be binned and averaged.\n",
    "        bin_size (int): Number of data points to bin together.\n",
    "\n",
    "    Returns:\n",
    "        ndarray: Binned and averaged 2D array.\n",
    "    \"\"\"\n",
    "    # Ensure the number of rows is divisible by bin_size\n",
    "    num_bins = data.shape[0] // bin_size\n",
    "    trimmed_data = data[:num_bins * bin_size]  # Trim excess rows if not divisible\n",
    "\n",
    "    # Reshape and average within bins\n",
    "    binned_data = trimmed_data.reshape(num_bins, bin_size, -1).mean(axis=1)\n",
    "    \n",
    "    return binned_data\n",
    "\n",
    "def rolling_bin_average(data, time_axis, bin_size=5):\n",
    "    \"\"\"\n",
    "    Bins the data and time axis using a rolling average with the specified bin size.\n",
    "\n",
    "    Parameters:\n",
    "        data (ndarray): 1D array of data points to be averaged.\n",
    "        time_axis (ndarray): 1D array of time points corresponding to the data.\n",
    "        bin_size (int): Number of data points to bin together (default is 5).\n",
    "\n",
    "    Returns:\n",
    "        tuple: (binned_data, binned_time_axis)\n",
    "            - binned_data: 1D array of binned (averaged) data points.\n",
    "            - binned_time_axis: 1D array of binned (averaged) time points.\n",
    "    \"\"\"\n",
    "    num_bins = len(data) // bin_size  # Number of complete bins\n",
    "    \n",
    "    # Trim data and time axis to fit into complete bins\n",
    "    trimmed_data = data[:num_bins * bin_size]\n",
    "    trimmed_time_axis = time_axis[:num_bins * bin_size]\n",
    "    \n",
    "    # Reshape data and time axis into (num_bins, bin_size) and average along axis=1\n",
    "    binned_data = trimmed_data.reshape(num_bins, bin_size).mean(axis=1)\n",
    "    binned_time_axis = trimmed_time_axis.reshape(num_bins, bin_size).mean(axis=1)\n",
    "    \n",
    "    return binned_data, binned_time_axis"
   ]
  },
  {
   "cell_type": "code",
   "execution_count": null,
   "metadata": {
    "vscode": {
     "languageId": "plaintext"
    }
   },
   "outputs": [],
   "source": [
    "#data_smoothed = moving_average_smooth(data[frequency_index, :])\n",
    "data_bin,time_trim = data_smoothed, time_axis #rolling_bin_average(data_smoothed, time_axis, 5)\n",
    "#trimmed_time_axis = time_axis[:data_smoothed.size]\n",
    "#print(trimmed_time_axis.size)\n",
    "#print(data_smoothed.size)"
   ]
  },
  {
   "cell_type": "code",
   "execution_count": null,
   "metadata": {
    "vscode": {
     "languageId": "plaintext"
    }
   },
   "outputs": [],
   "source": [
    "rel_time_start = 160 * 4\n",
    "rel_time_stop = 180 * 4\n",
    "intensity_values_rel_smooth = intensity_noGauss[rel_time_start:rel_time_stop]\n",
    "time_axis_rel = time_trim[rel_time_start:rel_time_stop]\n",
    "print(time_trim)\n",
    "c = 299792458 # speed of light in m/s\n",
    "B = 5.49 # length of Baseline in meters\n",
    "lam = c/(chosen_frequency*1e6) # wavelength in meters\n",
    "\n",
    "print(chosen_frequency)\n",
    "print(lam)\n",
    "print(time_axis_rel)\n",
    "\n",
    "# Define the theoretical fit function\n",
    "def theoretical_fit(x, S, omega, phi):\n",
    "    return S * (1 + np.cos(2* np.pi *B * omega * x / lam + phi))\n",
    "\n",
    "# Initial guesses for S, omega, and phi\n",
    "initial_guess = [0.8, 0.004, 0]\n",
    "\n",
    "# Set bounds for S, omega, and phi\n",
    "lower_bounds = [0, 0, -np.pi]  # Lower bound for S, omega, and phi\n",
    "upper_bounds = [3, 0.1, np.pi]  # Upper bound for S, omega, and phi\n",
    "\n",
    "# Curve fitting with bounds\n",
    "params, covariance = curve_fit(\n",
    "    theoretical_fit,\n",
    "    time_axis_rel,\n",
    "    intensity_values_rel_smooth,\n",
    "    p0=initial_guess,\n",
    "    bounds=(lower_bounds, upper_bounds),\n",
    "    maxfev=50000\n",
    ")\n",
    "\n",
    "print(params)\n",
    "\n",
    "# Extract the fitted parameters\n",
    "S_fit, omega_fit, phi_fit = params\n",
    "\n",
    "# Generate fitted curve\n",
    "fitted_curve = theoretical_fit(time_axis_rel, S_fit, omega_fit, phi_fit)\n",
    "\n",
    "\n",
    "\n",
    "# Plot the intensity of the chosen frequency over time\n",
    "plt.figure(figsize=(10, 4))\n",
    "plt.plot(time_axis_rel, intensity_values_rel_smooth , label=f'Frequency {chosen_frequency} MHz')\n",
    "plt.plot(time_axis_rel, fitted_curve, label='Fitted Curve', linewidth=2, color='red')\n",
    "plt.xlabel('Time')\n",
    "plt.ylabel('Intensity')\n",
    "plt.title(f'Intensity vs Time for Frequency {chosen_frequency} MHz')\n",
    "plt.legend()\n",
    "plt.grid(True)\n",
    "plt.show()"
   ]
  }
 ],
 "metadata": {
  "language_info": {
   "name": "python"
  }
 },
 "nbformat": 4,
 "nbformat_minor": 2
}
