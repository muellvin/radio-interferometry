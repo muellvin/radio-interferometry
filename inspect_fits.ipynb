{
 "cells": [
  {
   "cell_type": "code",
   "execution_count": 5,
   "metadata": {},
   "outputs": [
    {
     "name": "stdout",
     "output_type": "stream",
     "text": [
      "200\n",
      "2701.5\n",
      "min: 2200.0\n",
      "max: 2701.5\n"
     ]
    }
   ],
   "source": [
    "from astropy.io import fits\n",
    "\n",
    "file_path = \"sun_meas_25/meas_1/ETH_20250107_110501_01.fit\"\n",
    "hdul = fits.open(file_path)\n",
    "        \n",
    "# Access data (assuming it's a 2D array with shape [frequency, time])\n",
    "data = hdul[0].data\n",
    "frequencies = hdul[1].data[0][1]\n",
    "\n",
    "print(len(frequencies))\n",
    "print(frequencies[0])\n",
    "print(f\"min: {min(frequencies)}\")\n",
    "print(f\"max: {max(frequencies)}\")\n"
   ]
  }
 ],
 "metadata": {
  "kernelspec": {
   "display_name": "venv",
   "language": "python",
   "name": "python3"
  },
  "language_info": {
   "codemirror_mode": {
    "name": "ipython",
    "version": 3
   },
   "file_extension": ".py",
   "mimetype": "text/x-python",
   "name": "python",
   "nbconvert_exporter": "python",
   "pygments_lexer": "ipython3",
   "version": "3.11.2"
  }
 },
 "nbformat": 4,
 "nbformat_minor": 2
}
